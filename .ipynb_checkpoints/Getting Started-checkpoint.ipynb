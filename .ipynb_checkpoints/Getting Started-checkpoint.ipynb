{
 "cells": [
  {
   "cell_type": "markdown",
   "metadata": {},
   "source": [
    "<font size=7>Getting Started with SingleR</font>"
   ]
  },
  {
   "cell_type": "markdown",
   "metadata": {},
   "source": [
    "This is my first notebook playin with single R. Lets see what I can do!"
   ]
  },
  {
   "cell_type": "markdown",
   "metadata": {},
   "source": [
    "# How to Download Stuff"
   ]
  },
  {
   "cell_type": "markdown",
   "metadata": {},
   "source": [
    "This section show commands that were used to download stuff"
   ]
  },
  {
   "cell_type": "markdown",
   "metadata": {},
   "source": [
    "Command to download SingleR\n",
    "``` python\n",
    "devtools::install_github('dviraran/SingleR')\n",
    "```"
   ]
  },
  {
   "cell_type": "markdown",
   "metadata": {},
   "source": [
    "Remember to install umap with:\n",
    "``` python\n",
    "pip install umap-learn\n",
    "```"
   ]
  },
  {
   "cell_type": "code",
   "execution_count": null,
   "metadata": {},
   "outputs": [],
   "source": []
  },
  {
   "cell_type": "markdown",
   "metadata": {},
   "source": [
    "# Set Up Notebook"
   ]
  },
  {
   "cell_type": "markdown",
   "metadata": {},
   "source": [
    "First we load in Singler."
   ]
  },
  {
   "cell_type": "code",
   "execution_count": null,
   "metadata": {},
   "outputs": [],
   "source": [
    "library(SingleR)"
   ]
  },
  {
   "cell_type": "markdown",
   "metadata": {
    "cell_style": "center"
   },
   "source": [
    "## Supress Warnings"
   ]
  },
  {
   "cell_type": "markdown",
   "metadata": {},
   "source": [
    "This stops SingleR from crash the notebook with too many warnings.\n",
    "* [Reference Link](https://stackoverflow.com/questions/16194212/how-to-suppress-warnings-globally-in-an-r-script)"
   ]
  },
  {
   "cell_type": "code",
   "execution_count": null,
   "metadata": {},
   "outputs": [],
   "source": [
    "options(warn=-1)\n",
    "#options(warn=0) #<- to turn back on"
   ]
  },
  {
   "cell_type": "markdown",
   "metadata": {},
   "source": [
    "## Load Packages"
   ]
  },
  {
   "cell_type": "markdown",
   "metadata": {},
   "source": [
    "Then we load in packages found in the *\"Description\"* file"
   ]
  },
  {
   "cell_type": "markdown",
   "metadata": {},
   "source": [
    "``` python\n",
    "Imports: BiocManager,\n",
    "    RColorBrewer,\n",
    "    outliers,\n",
    "    matrixStats,\n",
    "    plyr,\n",
    "    dplyr,\n",
    "    ggplot2,\n",
    "    pbmcapply,\n",
    "    Matrix,\n",
    "    GSEABase,\n",
    "    GSVA,\n",
    "    pheatmap,\n",
    "    parallel,\n",
    "    devtools,\n",
    "    doFuture,\n",
    "    data.table,\n",
    "    foreach,\n",
    "    singscore,\n",
    "    doParallel\n",
    "Suggests: Seurat (>= 2.2)\n",
    "```"
   ]
  },
  {
   "cell_type": "code",
   "execution_count": null,
   "metadata": {},
   "outputs": [],
   "source": [
    "library( BiocManager )\n",
    "library( RColorBrewer)\n",
    "library( outliers)\n",
    "library( matrixStats)\n",
    "library( plyr)\n",
    "library( dplyr)\n",
    "library( ggplot2)\n",
    "library( pbmcapply)\n",
    "library( Matrix)\n",
    "library( GSEABase)\n",
    "library( GSVA)\n",
    "library( pheatmap)\n",
    "library( parallel)\n",
    "library( devtools)\n",
    "library( doFuture)\n",
    "library( data.table)\n",
    "library( foreach)\n",
    "library( singscore)\n",
    "library(parallel)\n",
    "library( doParallel)\n",
    "library(dplyr)\n",
    "library(Seurat)"
   ]
  },
  {
   "cell_type": "code",
   "execution_count": null,
   "metadata": {},
   "outputs": [],
   "source": []
  },
  {
   "cell_type": "markdown",
   "metadata": {},
   "source": [
    "## Load SingleR Files <small><font color=\"orange\">Error in SingleR.References.R</font></small>"
   ]
  },
  {
   "cell_type": "markdown",
   "metadata": {},
   "source": [
    "Files to Add:\n",
    "``` python\n",
    "HelperFunctions.R  SingleR.Create.R  SingleR.Object.R  SingleR.Plotting.R  SingleR.R  SingleR.References.R\n",
    "```\n"
   ]
  },
  {
   "cell_type": "code",
   "execution_count": null,
   "metadata": {},
   "outputs": [],
   "source": [
    "source(\"/home/jovyan/Public/SingleR/R/HelperFunctions.R\")"
   ]
  },
  {
   "cell_type": "code",
   "execution_count": null,
   "metadata": {},
   "outputs": [],
   "source": [
    "source(\"/home/jovyan/Public/SingleR/R/SingleR.Create.R\")"
   ]
  },
  {
   "cell_type": "code",
   "execution_count": null,
   "metadata": {},
   "outputs": [],
   "source": [
    "source(\"/home/jovyan/Public/SingleR/R/SingleR.Object.R\")"
   ]
  },
  {
   "cell_type": "code",
   "execution_count": null,
   "metadata": {},
   "outputs": [],
   "source": [
    "source(\"/home/jovyan/Public/SingleR/R/SingleR.Plotting.R\")"
   ]
  },
  {
   "cell_type": "code",
   "execution_count": null,
   "metadata": {},
   "outputs": [],
   "source": [
    "source(\"/home/jovyan/Public/SingleR/R/SingleR.R\")"
   ]
  },
  {
   "cell_type": "code",
   "execution_count": null,
   "metadata": {},
   "outputs": [],
   "source": [
    "source(\"/home/jovyan/Public/SingleR/R/SingleR.References.R\")"
   ]
  },
  {
   "cell_type": "code",
   "execution_count": null,
   "metadata": {},
   "outputs": [],
   "source": []
  },
  {
   "cell_type": "code",
   "execution_count": null,
   "metadata": {},
   "outputs": [],
   "source": []
  },
  {
   "cell_type": "markdown",
   "metadata": {},
   "source": [
    "# Load in CreateSinglerSeuratObject <font color=\"red\">Trying to fix glitch</font>"
   ]
  },
  {
   "cell_type": "code",
   "execution_count": null,
   "metadata": {},
   "outputs": [],
   "source": [
    "CreateSinglerSeuratObject = function(counts,annot=NULL,project.name,\n",
    "                                     min.genes=200,technology='10X',\n",
    "                                     species='Human',citation='',\n",
    "                                     ref.list=list(),normalize.gene.length=F,\n",
    "                                     variable.genes='de',fine.tune=T,\n",
    "                                     reduce.file.size=T,do.signatures=F,\n",
    "                                     min.cells=2,npca=10,regress.out='nUMI',\n",
    "                                     do.main.types=T,reduce.seurat.object=T,\n",
    "                                     temp.dir=NULL, numCores = SingleR.numCores) {\n",
    "  if (!requireNamespace(\"Seurat\", quietly = TRUE)) {\n",
    "    stop(\"Seurat needed for this function to work. Please install it.\",\n",
    "         call. = FALSE)\n",
    "  }\n",
    "  \n",
    "  print(project.name)\n",
    "  print('Reading single-cell data...')\n",
    "  sc.data = ReadSingleCellData(counts,annot)\n",
    "  print('Create Seurat object...')\n",
    "  seurat = SingleR.CreateSeurat(project.name,sc.data$counts,min.genes=\n",
    "                                  min.genes,min.cells=min.cells,\n",
    "                                regress.out=regress.out,npca=npca,\n",
    "                                temp.dir=temp.dir)\n",
    "  if (packageVersion('Seurat')>=3) {\n",
    "    data = seurat@assays$RNA@data\n",
    "    clusters = seurat@active.ident\n",
    "  } else {\n",
    "    data = seurat@data\n",
    "    clusters = seurat@ident\n",
    "    \n",
    "  }\n",
    "  \n",
    "  orig.ident = sc.data$orig.ident[colnames(data)]\n",
    "  counts = as.matrix(sc.data$counts[,colnames(data)])\n",
    "  \n",
    "  seurat@meta.data$orig.ident = factor(orig.ident)\n",
    "  \n",
    "  if(reduce.seurat.object==T) {\n",
    "    if (packageVersion('Seurat')>=3) {\n",
    "      seurat@assays$RNA@counts = matrix()\n",
    "      seurat@assays$RNA@scale.data = matrix()\n",
    "    } else {\n",
    "      seurat@raw.data = c()\n",
    "      seurat@scale.data = c()\n",
    "      seurat@calc.params = list()\n",
    "    }\n",
    "  }\n",
    "  \n",
    "  print('Creat SingleR object...')\n",
    "  \n",
    "  singler = CreateSinglerObject(counts,orig.ident,project.name,\n",
    "                                min.genes=min.genes,technology,species,\n",
    "                                citation,ref.list,\n",
    "                                normalize.gene.length,variable.genes,\n",
    "                                fine.tune,do.signatures,\n",
    "                                clusters,do.main.types,\n",
    "                                reduce.file.size,temp.dir,numCores = numCores)\n",
    "  \n",
    "  singler$seurat = seurat \n",
    "  \n",
    "  if (packageVersion('Seurat')>=3) {\n",
    "    singler$meta.data$xy = seurat@reductions$tsne@cell.embeddings\n",
    "    singler$meta.data$clusters = seurat@active.ident\n",
    "    \n",
    "  } else {\n",
    "    singler$meta.data$xy = seurat@dr$tsne@cell.embeddings\n",
    "    singler$meta.data$clusters = seurat@ident\n",
    "  }\n",
    "  singler\n",
    "}"
   ]
  },
  {
   "cell_type": "code",
   "execution_count": null,
   "metadata": {},
   "outputs": [],
   "source": []
  },
  {
   "cell_type": "code",
   "execution_count": null,
   "metadata": {},
   "outputs": [],
   "source": []
  },
  {
   "cell_type": "code",
   "execution_count": null,
   "metadata": {},
   "outputs": [],
   "source": []
  },
  {
   "cell_type": "code",
   "execution_count": null,
   "metadata": {},
   "outputs": [],
   "source": []
  },
  {
   "cell_type": "markdown",
   "metadata": {},
   "source": [
    "# Dissect `CreateSinglerSeuratObject`"
   ]
  },
  {
   "cell_type": "markdown",
   "metadata": {},
   "source": [
    "The <font color=\"blue\">SingleR</font> package is causing a bunch of errors. It's debug time! We are going to run the software the long way, line by line. "
   ]
  },
  {
   "cell_type": "markdown",
   "metadata": {},
   "source": [
    "We start by disecting the function `CreateSinglerSeuratObject` and running each of it's commands line by line."
   ]
  },
  {
   "cell_type": "code",
   "execution_count": null,
   "metadata": {},
   "outputs": [],
   "source": [
    "annot.file = 'GSE74923_annotations.txt'\n",
    "counts.file =  'GSE74923_new.txt' "
   ]
  },
  {
   "cell_type": "markdown",
   "metadata": {},
   "source": [
    "The code for the `CreateSinglerSeuratObject` was copied from this location on [Github](https://github.com/dviraran/SingleR/blob/master/R/SingleR.Create.R)"
   ]
  },
  {
   "cell_type": "markdown",
   "metadata": {},
   "source": [
    "## Set up initial variables"
   ]
  },
  {
   "cell_type": "markdown",
   "metadata": {},
   "source": [
    "Below are the user inputted variables"
   ]
  },
  {
   "cell_type": "code",
   "execution_count": null,
   "metadata": {},
   "outputs": [],
   "source": [
    "counts = 'GSE74923_new.txt' \n",
    "annot =  'GSE74923_new.txt'\n",
    "project.name = 'GSE74923'"
   ]
  },
  {
   "cell_type": "code",
   "execution_count": null,
   "metadata": {},
   "outputs": [],
   "source": [
    "variable.genes='de'; regress.out='nUMI' \n",
    "technology='C1'; species='Mouse'\n",
    "citation='Kimmerling et al.'; reduce.file.size = F \n",
    "normalize.gene.length = T"
   ]
  },
  {
   "cell_type": "markdown",
   "metadata": {},
   "source": [
    "We now add the default variables"
   ]
  },
  {
   "cell_type": "code",
   "execution_count": null,
   "metadata": {},
   "outputs": [],
   "source": [
    "\n",
    "min.genes=200; \n",
    "ref.list=list()\n",
    "variable.genes='de'; fine.tune=T\n",
    "do.signatures=F\n",
    "min.cells=2; npca=10\n",
    "do.main.types=T; reduce.seurat.object=T\n",
    "temp.dir=NULL"
   ]
  },
  {
   "cell_type": "markdown",
   "metadata": {},
   "source": [
    "I added the following to prevent glitches"
   ]
  },
  {
   "cell_type": "code",
   "execution_count": null,
   "metadata": {},
   "outputs": [],
   "source": [
    " numCores =1"
   ]
  },
  {
   "cell_type": "markdown",
   "metadata": {},
   "source": [
    "## Run \"Reading single-cell data\""
   ]
  },
  {
   "cell_type": "code",
   "execution_count": null,
   "metadata": {},
   "outputs": [],
   "source": [
    "  if (!requireNamespace(\"Seurat\", quietly = TRUE)) {\n",
    "    stop(\"Seurat needed for this function to work. Please install it.\",\n",
    "         call. = FALSE)\n",
    "  }\n",
    "  \n",
    "  print(project.name)\n",
    "  print('Reading single-cell data...')\n",
    "  sc.data = ReadSingleCellData(counts,annot)"
   ]
  },
  {
   "cell_type": "markdown",
   "metadata": {},
   "source": [
    "## Run \"'Create Seurat object...'\""
   ]
  },
  {
   "cell_type": "code",
   "execution_count": null,
   "metadata": {},
   "outputs": [],
   "source": [
    "  print('Create Seurat object...')\n",
    "  seurat = SingleR.CreateSeurat(project.name,sc.data$counts,min.genes=\n",
    "                                  min.genes,min.cells=min.cells,\n",
    "                                regress.out=regress.out,npca=npca,\n",
    "                                temp.dir=temp.dir)\n",
    "  if (packageVersion('Seurat')>=3) {\n",
    "    data = seurat@assays$RNA@data\n",
    "    clusters = seurat@active.ident\n",
    "  } else {\n",
    "    data = seurat@data\n",
    "    clusters = seurat@ident\n",
    "    \n",
    "  }\n",
    "  \n",
    "  orig.ident = sc.data$orig.ident[colnames(data)]\n",
    "  counts = as.matrix(sc.data$counts[,colnames(data)])\n",
    "  \n",
    "  seurat@meta.data$orig.ident = factor(orig.ident)\n",
    "  \n",
    "  if(reduce.seurat.object==T) {\n",
    "    if (packageVersion('Seurat')>=3) {\n",
    "      seurat@assays$RNA@counts = matrix()\n",
    "      seurat@assays$RNA@scale.data = matrix()\n",
    "    } else {\n",
    "      seurat@raw.data = c()\n",
    "      seurat@scale.data = c()\n",
    "      seurat@calc.params = list()\n",
    "    }\n",
    "  }"
   ]
  },
  {
   "cell_type": "markdown",
   "metadata": {},
   "source": [
    "## Run \"Creat SingleR object...\" <font color=\"red\">Error Here</font>"
   ]
  },
  {
   "cell_type": "code",
   "execution_count": null,
   "metadata": {},
   "outputs": [],
   "source": [
    "print('Creat SingleR object...')  "
   ]
  },
  {
   "cell_type": "markdown",
   "metadata": {},
   "source": [
    "``` python\n",
    "singler = CreateSinglerObject(counts,orig.ident,project.name,\n",
    "                            min.genes=min.genes,technology,species,\n",
    "                            citation,ref.list,\n",
    "                            normalize.gene.length,variable.genes,\n",
    "                            fine.tune,do.signatures,\n",
    "                            clusters,do.main.types,\n",
    "                            reduce.file.size,temp.dir,numCores = numCores)\n",
    "```"
   ]
  },
  {
   "cell_type": "code",
   "execution_count": null,
   "metadata": {},
   "outputs": [],
   "source": [
    "singler = CreateSinglerObject(counts,orig.ident,project.name,\n",
    "                            min.genes=min.genes,technology,species,\n",
    "                            citation,ref.list,\n",
    "                            normalize.gene.length,variable.genes,\n",
    "                            fine.tune,do.signatures,\n",
    "                            clusters,do.main.types,\n",
    "                            reduce.file.size,temp.dir,numCores = numCores)"
   ]
  },
  {
   "cell_type": "code",
   "execution_count": null,
   "metadata": {},
   "outputs": [],
   "source": [
    "  singler$seurat = seurat \n",
    "  \n",
    "  if (packageVersion('Seurat')>=3) {\n",
    "    singler$meta.data$xy = seurat@reductions$tsne@cell.embeddings\n",
    "    singler$meta.data$clusters = seurat@active.ident\n",
    "    \n",
    "  } else {\n",
    "    singler$meta.data$xy = seurat@dr$tsne@cell.embeddings\n",
    "    singler$meta.data$clusters = seurat@ident\n",
    "  }"
   ]
  },
  {
   "cell_type": "markdown",
   "metadata": {},
   "source": [
    "### `Dissect` \"CreateSinglerObject\""
   ]
  },
  {
   "cell_type": "markdown",
   "metadata": {},
   "source": [
    "Error is happening in \"CreateSinglerObject\". Code is shown below:"
   ]
  },
  {
   "cell_type": "markdown",
   "metadata": {},
   "source": [
    "``` python\n",
    "CreateSinglerObject = function(counts,annot=NULL,project.name,\n",
    "                               min.genes=0,technology='10X',\n",
    "                               species='Human',citation='',\n",
    "                               ref.list=list(),normalize.gene.length=F,\n",
    "                               variable.genes='de',fine.tune=T,\n",
    "                               do.signatures=F,clusters=NULL,\n",
    "                               do.main.types=T,reduce.file.size=T,\n",
    "                               temp.dir=NULL,numCores = SingleR.numCores) {\n",
    "  \n",
    "  sc.data = ReadSingleCellData(counts,annot)\n",
    "  \n",
    "  print(paste0('Dimensions of counts data: ',\n",
    "               nrow(sc.data$counts),'x',ncol(sc.data$counts)))\n",
    "  \n",
    "  singler = list()\n",
    "  \n",
    "  \n",
    "  N = colSums(counts>0)\n",
    "  orig.ident = sc.data$orig.ident[N>=min.genes]\n",
    "  counts = sc.data$counts[,N>=min.genes]\n",
    "  \n",
    "  if (normalize.gene.length == F) {\n",
    "    sc.data.gl = counts\n",
    "    rownames(sc.data.gl) = tolower(rownames(sc.data.gl))\n",
    "  } else {\n",
    "    if (species == 'Human') {\n",
    "      sc.data.gl = TPM(counts,human_lengths)\n",
    "    } else if (species == 'Mouse') {\n",
    "      sc.data.gl = TPM(counts,mouse_lengths)\n",
    "    }\n",
    "  }\n",
    "  \n",
    "  if (length(ref.list)==0) {\n",
    "    if (species == 'Mouse') {\n",
    "      #if (!exists('immgen'))\n",
    "      #  data('Immgen')\n",
    "      #if (!exists('mouse.rnaseq'))\n",
    "      #  data('Mouse-RNAseq')\n",
    "      res = list(SingleR.CreateObject(sc.data.gl,immgen,clusters,species,\n",
    "                                      citation,technology,\n",
    "                                      do.main.types=do.main.types,\n",
    "                                      variable.genes=variable.genes,\n",
    "                                      fine.tune=fine.tune,numCores = numCores),\n",
    "                 SingleR.CreateObject(sc.data.gl,mouse.rnaseq,clusters,\n",
    "                                      species,citation,technology,\n",
    "                                      do.main.types=do.main.types,\n",
    "                                      variable.genes=variable.genes,\n",
    "                                      fine.tune=fine.tune,numCores = numCores)\n",
    "      )\n",
    "    } else if (species == 'Human') {\n",
    "      #if(!exists('hpca'))\n",
    "      #  data ('HPCA')\n",
    "      #if (!exists('blueprint_encode'))\n",
    "      #  data('Blueprint_Encode')\n",
    "      res = list(SingleR.CreateObject(sc.data.gl,hpca,clusters,species,\n",
    "                                      citation,technology,\n",
    "                                      do.main.types = do.main.types,\n",
    "                                      variable.genes=variable.genes,\n",
    "                                      fine.tune=fine.tune,numCores = numCores),\n",
    "                 SingleR.CreateObject(sc.data.gl,blueprint_encode,\n",
    "                                      clusters,species,citation,technology,\n",
    "                                      do.main.types = do.main.types,\n",
    "                                      variable.genes=variable.genes,\n",
    "                                      fine.tune=fine.tune,numCores = numCores))\n",
    "    }\n",
    "  } else {\n",
    "    res = lapply(ref.list, FUN=function(x) {\n",
    "      SingleR.CreateObject(sc.data.gl,x,clusters,species,citation,technology,\n",
    "                           do.main.types=do.main.types,\n",
    "                           variable.genes=variable.genes,fine.tune=fine.tune,\n",
    "                           numCores = numCores)\n",
    "    })\n",
    "  }\n",
    "  \n",
    "  singler$singler = res\n",
    "  \n",
    "  if (do.signatures==TRUE) {\n",
    "    signatures = calculateSingScores(sc.data.gl,species=species)\n",
    "    singler$signatures = signatures\n",
    "    \n",
    "  }\n",
    "  \n",
    "  if (species == 'Human') {\n",
    "    kang = SingleR.CreateKangAnnotations(sc.data.gl)\n",
    "    singler$other = kang$kang_annotation\n",
    "  }\n",
    "  \n",
    "  singler$meta.data = list(project.name=project.name,orig.ident=orig.ident)\n",
    "  \n",
    "  if (reduce.file.size==T) {\n",
    "    singler = remove.Unnecessary.Data.single(singler)\n",
    "  }\n",
    "  \n",
    "  singler\n",
    "  \n",
    "}\n",
    "```"
   ]
  },
  {
   "cell_type": "markdown",
   "metadata": {},
   "source": [
    "## Return Singler"
   ]
  },
  {
   "cell_type": "code",
   "execution_count": null,
   "metadata": {},
   "outputs": [],
   "source": [
    "singler"
   ]
  },
  {
   "cell_type": "code",
   "execution_count": null,
   "metadata": {},
   "outputs": [],
   "source": []
  },
  {
   "cell_type": "code",
   "execution_count": null,
   "metadata": {},
   "outputs": [],
   "source": [
    "\n"
   ]
  },
  {
   "cell_type": "markdown",
   "metadata": {},
   "source": [
    "# Test SingleR  <font color=\"red\">Errors</font>"
   ]
  },
  {
   "cell_type": "code",
   "execution_count": null,
   "metadata": {},
   "outputs": [],
   "source": [
    "annot.file = 'GSE74923_annotations.txt'\n",
    "counts.file =  'GSE74923_new.txt' "
   ]
  },
  {
   "cell_type": "code",
   "execution_count": null,
   "metadata": {},
   "outputs": [],
   "source": [
    "singler"
   ]
  },
  {
   "cell_type": "markdown",
   "metadata": {},
   "source": [
    "Turned FineTuning off"
   ]
  },
  {
   "cell_type": "code",
   "execution_count": null,
   "metadata": {},
   "outputs": [],
   "source": [
    "singler = CreateSinglerSeuratObject(counts.file, annot.file, 'GSE74923', min.genes=200,\n",
    "                                    variable.genes='de', regress.out='nUMI', \n",
    "                                    technology='C1', species='Mouse',\n",
    "                                    citation='Kimmerling et al.', reduce.file.size = F, \n",
    "                                    normalize.gene.length = T, numCores =1,\n",
    "                                    fine.tune=F)\n",
    "save(singler,file='GSE74923.RData')"
   ]
  },
  {
   "cell_type": "code",
   "execution_count": null,
   "metadata": {},
   "outputs": [],
   "source": []
  },
  {
   "cell_type": "code",
   "execution_count": null,
   "metadata": {},
   "outputs": [],
   "source": [
    "mclapply"
   ]
  },
  {
   "cell_type": "code",
   "execution_count": null,
   "metadata": {},
   "outputs": [],
   "source": []
  },
  {
   "cell_type": "code",
   "execution_count": null,
   "metadata": {},
   "outputs": [],
   "source": []
  },
  {
   "cell_type": "code",
   "execution_count": null,
   "metadata": {},
   "outputs": [],
   "source": [
    "save(singler,file='GSE74923.RData')"
   ]
  },
  {
   "cell_type": "code",
   "execution_count": null,
   "metadata": {},
   "outputs": [],
   "source": [
    "singler"
   ]
  },
  {
   "cell_type": "code",
   "execution_count": null,
   "metadata": {},
   "outputs": [],
   "source": [
    "NotebookApp.iopub_msg_rate_limit"
   ]
  },
  {
   "cell_type": "code",
   "execution_count": null,
   "metadata": {},
   "outputs": [],
   "source": [
    "singler"
   ]
  },
  {
   "cell_type": "code",
   "execution_count": null,
   "metadata": {},
   "outputs": [],
   "source": []
  },
  {
   "cell_type": "code",
   "execution_count": null,
   "metadata": {},
   "outputs": [],
   "source": []
  },
  {
   "cell_type": "code",
   "execution_count": null,
   "metadata": {},
   "outputs": [],
   "source": [
    "#save(singler,file='GSE74923.RData'))"
   ]
  },
  {
   "cell_type": "code",
   "execution_count": null,
   "metadata": {},
   "outputs": [],
   "source": [
    "#file.info(counts.file)"
   ]
  },
  {
   "cell_type": "code",
   "execution_count": null,
   "metadata": {},
   "outputs": [],
   "source": [
    "CreateSeuratObject"
   ]
  },
  {
   "cell_type": "code",
   "execution_count": null,
   "metadata": {},
   "outputs": [],
   "source": []
  },
  {
   "cell_type": "code",
   "execution_count": null,
   "metadata": {},
   "outputs": [],
   "source": []
  },
  {
   "cell_type": "code",
   "execution_count": null,
   "metadata": {},
   "outputs": [],
   "source": []
  },
  {
   "cell_type": "code",
   "execution_count": null,
   "metadata": {},
   "outputs": [],
   "source": []
  }
 ],
 "metadata": {
  "hide_input": false,
  "kernelspec": {
   "display_name": "R",
   "language": "R",
   "name": "ir"
  },
  "language_info": {
   "codemirror_mode": "r",
   "file_extension": ".r",
   "mimetype": "text/x-r-source",
   "name": "R",
   "pygments_lexer": "r",
   "version": "3.5.1"
  },
  "toc": {
   "base_numbering": 1,
   "nav_menu": {},
   "number_sections": true,
   "sideBar": true,
   "skip_h1_title": false,
   "title_cell": "Table of Contents",
   "title_sidebar": "Contents",
   "toc_cell": false,
   "toc_position": {},
   "toc_section_display": true,
   "toc_window_display": false
  },
  "varInspector": {
   "cols": {
    "lenName": 16,
    "lenType": 16,
    "lenVar": 40
   },
   "kernels_config": {
    "python": {
     "delete_cmd_postfix": "",
     "delete_cmd_prefix": "del ",
     "library": "var_list.py",
     "varRefreshCmd": "print(var_dic_list())"
    },
    "r": {
     "delete_cmd_postfix": ") ",
     "delete_cmd_prefix": "rm(",
     "library": "var_list.r",
     "varRefreshCmd": "cat(var_dic_list()) "
    }
   },
   "types_to_exclude": [
    "module",
    "function",
    "builtin_function_or_method",
    "instance",
    "_Feature"
   ],
   "window_display": false
  },
  "widgets": {
   "application/vnd.jupyter.widget-state+json": {
    "state": {},
    "version_major": 2,
    "version_minor": 0
   }
  }
 },
 "nbformat": 4,
 "nbformat_minor": 2
}
